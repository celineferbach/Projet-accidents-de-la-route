{
 "cells": [
  {
   "cell_type": "code",
   "execution_count": null,
   "metadata": {},
   "outputs": [],
   "source": [
    "!pip install pynsee\n",
    "import pynsee\n",
    "from pynsee.download import download_file\n",
    "\n",
    "\n",
    "import pandas as pd\n",
    "\n",
    "\n",
    "# # Ex Download file from filename:\n",
    "\n",
    "df = download_file(\"COG_COMMUNE_2022\")\n",
    "\n",
    "\n",
    "\n",
    "\n",
    "# # Obtenir la liste des fichiers dispo:\n",
    "\n",
    "\n",
    "\n",
    "df_files = pynsee.download.get_file_list()\n",
    "\n",
    "df_files\n",
    "\n",
    "\n",
    "# # Fichier de mobilités professionnelles:\n",
    "\n",
    "\n",
    "\n",
    "df2 = download_file(\"RP_MOBPRO_2020\")\n",
    "\n",
    "df2.head(2)"
   ]
  },
  {
   "cell_type": "code",
   "execution_count": 1,
   "metadata": {},
   "outputs": [
    {
     "ename": "NameError",
     "evalue": "name 'download_file' is not defined",
     "output_type": "error",
     "traceback": [
      "\u001b[0;31m---------------------------------------------------------------------------\u001b[0m",
      "\u001b[0;31mNameError\u001b[0m                                 Traceback (most recent call last)",
      "Cell \u001b[0;32mIn[1], line 1\u001b[0m\n\u001b[0;32m----> 1\u001b[0m df2 \u001b[38;5;241m=\u001b[39m \u001b[43mdownload_file\u001b[49m(\u001b[38;5;124m\"\u001b[39m\u001b[38;5;124mRP_MOBPRO_2019\u001b[39m\u001b[38;5;124m\"\u001b[39m)\n\u001b[1;32m      3\u001b[0m df2\u001b[38;5;241m.\u001b[39mhead(\u001b[38;5;241m2\u001b[39m)\n",
      "\u001b[0;31mNameError\u001b[0m: name 'download_file' is not defined"
     ]
    }
   ],
   "source": [
    "df2 = download_file(\"RP_MOBPRO_2019\")\n",
    "\n",
    "df2.head(2)"
   ]
  },
  {
   "cell_type": "code",
   "execution_count": 2,
   "metadata": {},
   "outputs": [
    {
     "ename": "NameError",
     "evalue": "name 'df_files' is not defined",
     "output_type": "error",
     "traceback": [
      "\u001b[0;31m---------------------------------------------------------------------------\u001b[0m",
      "\u001b[0;31mNameError\u001b[0m                                 Traceback (most recent call last)",
      "Cell \u001b[0;32mIn[2], line 1\u001b[0m\n\u001b[0;32m----> 1\u001b[0m \u001b[43mdf_files\u001b[49m\u001b[38;5;241m.\u001b[39mloc[df_files[\u001b[38;5;124m'\u001b[39m\u001b[38;5;124mname\u001b[39m\u001b[38;5;124m'\u001b[39m]\u001b[38;5;241m.\u001b[39mstr\u001b[38;5;241m.\u001b[39mcontains(\u001b[38;5;124m'\u001b[39m\u001b[38;5;124mMOBPRO\u001b[39m\u001b[38;5;124m'\u001b[39m)]\n",
      "\u001b[0;31mNameError\u001b[0m: name 'df_files' is not defined"
     ]
    }
   ],
   "source": [
    "df_files.loc[df_files['name'].str.contains('MOBPRO')]"
   ]
  }
 ],
 "metadata": {
  "kernelspec": {
   "display_name": "base",
   "language": "python",
   "name": "python3"
  },
  "language_info": {
   "codemirror_mode": {
    "name": "ipython",
    "version": 3
   },
   "file_extension": ".py",
   "mimetype": "text/x-python",
   "name": "python",
   "nbconvert_exporter": "python",
   "pygments_lexer": "ipython3",
   "version": "3.12.7"
  }
 },
 "nbformat": 4,
 "nbformat_minor": 2
}
